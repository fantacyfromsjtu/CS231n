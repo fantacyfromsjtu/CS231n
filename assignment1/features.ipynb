{
 "cells": [
  {
   "cell_type": "code",
   "execution_count": 2,
   "id": "0dc58914",
   "metadata": {
    "colab": {
     "base_uri": "https://localhost:8080/"
    },
    "executionInfo": {
     "elapsed": 21463,
     "status": "ok",
     "timestamp": 1720926664545,
     "user": {
      "displayName": "kurumi wang",
      "userId": "16115788387281802082"
     },
     "user_tz": -480
    },
    "id": "0dc58914",
    "outputId": "558f8c12-2a80-4b84-d2ca-909175b86163"
   },
   "source": [
    "# This mounts your Google Drive to the Colab VM.\n",
    "from google.colab import drive\n",
    "drive.mount('/content/drive')\n",
    "\n",
    "# TODO: Enter the foldername in your Drive where you have saved the unzipped\n",
    "# assignment folder, e.g. 'cs231n/assignments/assignment1/'\n",
    "FOLDERNAME = 'cs231n/assignments/assignment1/'\n",
    "assert FOLDERNAME is not None, \"[!] Enter the foldername.\"\n",
    "\n",
    "# Now that we've mounted your Drive, this ensures that\n",
    "# the Python interpreter of the Colab VM can load\n",
    "# python files from within it.\n",
    "import sys\n",
    "sys.path.append('/content/drive/My Drive/{}'.format(FOLDERNAME))\n",
    "\n",
    "# This downloads the CIFAR-10 dataset to your Drive\n",
    "# if it doesn't already exist.\n",
    "%cd /content/drive/My\\ Drive/$FOLDERNAME/cs231n/datasets/\n",
    "!bash get_datasets.sh\n",
    "%cd /content/drive/My\\ Drive/$FOLDERNAME"
   ],
   "outputs": []
  },
  {
   "cell_type": "markdown",
   "id": "78ddf227",
   "metadata": {
    "id": "78ddf227"
   },
   "source": [
    "# Image features exercise\n",
    "*Complete and hand in this completed worksheet (including its outputs and any supporting code outside of the worksheet) with your assignment submission. For more details see the [assignments page](http://vision.stanford.edu/teaching/cs231n/assignments.html) on the course website.*\n",
    "\n",
    "We have seen that we can achieve reasonable performance on an image classification task by training a linear classifier on the pixels of the input image. In this exercise we will show that we can improve our classification performance by training linear classifiers not on raw pixels but on features that are computed from the raw pixels.\n",
    "\n",
    "All of your work for this exercise will be done in this notebook."
   ]
  },
  {
   "cell_type": "code",
   "execution_count": 3,
   "id": "d2721993",
   "metadata": {
    "executionInfo": {
     "elapsed": 1077,
     "status": "ok",
     "timestamp": 1720926665616,
     "user": {
      "displayName": "kurumi wang",
      "userId": "16115788387281802082"
     },
     "user_tz": -480
    },
    "id": "d2721993"
   },
   "source": [
    "import random\n",
    "import numpy as np\n",
    "from cs231n.data_utils import load_CIFAR10\n",
    "import matplotlib.pyplot as plt\n",
    "\n",
    "\n",
    "%matplotlib inline\n",
    "plt.rcParams['figure.figsize'] = (10.0, 8.0) # set default size of plots\n",
    "plt.rcParams['image.interpolation'] = 'nearest'\n",
    "plt.rcParams['image.cmap'] = 'gray'\n",
    "\n",
    "# for auto-reloading extenrnal modules\n",
    "# see http://stackoverflow.com/questions/1907993/autoreload-of-modules-in-ipython\n",
    "%load_ext autoreload\n",
    "%autoreload 2"
   ],
   "outputs": []
  },
  {
   "cell_type": "markdown",
   "id": "f38ab30e",
   "metadata": {
    "id": "f38ab30e"
   },
   "source": [
    "## Load data\n",
    "Similar to previous exercises, we will load CIFAR-10 data from disk."
   ]
  },
  {
   "cell_type": "code",
   "execution_count": 4,
   "id": "6b87b0a6",
   "metadata": {
    "executionInfo": {
     "elapsed": 15521,
     "status": "ok",
     "timestamp": 1720926681135,
     "user": {
      "displayName": "kurumi wang",
      "userId": "16115788387281802082"
     },
     "user_tz": -480
    },
    "id": "6b87b0a6"
   },
   "source": [
    "from cs231n.features import color_histogram_hsv, hog_feature\n",
    "\n",
    "def get_CIFAR10_data(num_training=49000, num_validation=1000, num_test=1000):\n",
    "    # Load the raw CIFAR-10 data\n",
    "    cifar10_dir = 'cs231n/datasets/cifar-10-batches-py'\n",
    "\n",
    "    # Cleaning up variables to prevent loading data multiple times (which may cause memory issue)\n",
    "    try:\n",
    "       del X_train, y_train\n",
    "       del X_test, y_test\n",
    "       print('Clear previously loaded data.')\n",
    "    except:\n",
    "       pass\n",
    "\n",
    "    X_train, y_train, X_test, y_test = load_CIFAR10(cifar10_dir)\n",
    "\n",
    "    # Subsample the data\n",
    "    mask = list(range(num_training, num_training + num_validation))\n",
    "    X_val = X_train[mask]\n",
    "    y_val = y_train[mask]\n",
    "    mask = list(range(num_training))\n",
    "    X_train = X_train[mask]\n",
    "    y_train = y_train[mask]\n",
    "    mask = list(range(num_test))\n",
    "    X_test = X_test[mask]\n",
    "    y_test = y_test[mask]\n",
    "\n",
    "    return X_train, y_train, X_val, y_val, X_test, y_test\n",
    "\n",
    "X_train, y_train, X_val, y_val, X_test, y_test = get_CIFAR10_data()"
   ],
   "outputs": []
  },
  {
   "cell_type": "markdown",
   "id": "99c37425",
   "metadata": {
    "id": "99c37425"
   },
   "source": [
    "## Extract Features\n",
    "For each image we will compute a Histogram of Oriented\n",
    "Gradients (HOG) as well as a color histogram using the hue channel in HSV\n",
    "color space. We form our final feature vector for each image by concatenating\n",
    "the HOG and color histogram feature vectors.\n",
    "\n",
    "Roughly speaking, HOG should capture the texture of the image while ignoring\n",
    "color information, and the color histogram represents the color of the input\n",
    "image while ignoring texture. As a result, we expect that using both together\n",
    "ought to work better than using either alone. Verifying this assumption would\n",
    "be a good thing to try for your own interest.\n",
    "\n",
    "The `hog_feature` and `color_histogram_hsv` functions both operate on a single\n",
    "image and return a feature vector for that image. The extract_features\n",
    "function takes a set of images and a list of feature functions and evaluates\n",
    "each feature function on each image, storing the results in a matrix where\n",
    "each column is the concatenation of all feature vectors for a single image."
   ]
  },
  {
   "cell_type": "code",
   "execution_count": 5,
   "id": "6e45ab01",
   "metadata": {
    "colab": {
     "base_uri": "https://localhost:8080/"
    },
    "executionInfo": {
     "elapsed": 73269,
     "status": "ok",
     "timestamp": 1720926754392,
     "user": {
      "displayName": "kurumi wang",
      "userId": "16115788387281802082"
     },
     "user_tz": -480
    },
    "id": "6e45ab01",
    "outputId": "1d1324cb-da75-4397-fc85-9bbde1b7a37d",
    "scrolled": true
   },
   "source": [
    "from cs231n.features import *\n",
    "\n",
    "num_color_bins = 10 # Number of bins in the color histogram\n",
    "feature_fns = [hog_feature, lambda img: color_histogram_hsv(img, nbin=num_color_bins)]\n",
    "X_train_feats = extract_features(X_train, feature_fns, verbose=True)\n",
    "X_val_feats = extract_features(X_val, feature_fns)\n",
    "X_test_feats = extract_features(X_test, feature_fns)\n",
    "\n",
    "# Preprocessing: Subtract the mean feature\n",
    "mean_feat = np.mean(X_train_feats, axis=0, keepdims=True)\n",
    "X_train_feats -= mean_feat\n",
    "X_val_feats -= mean_feat\n",
    "X_test_feats -= mean_feat\n",
    "\n",
    "# Preprocessing: Divide by standard deviation. This ensures that each feature\n",
    "# has roughly the same scale.\n",
    "std_feat = np.std(X_train_feats, axis=0, keepdims=True)\n",
    "X_train_feats /= std_feat\n",
    "X_val_feats /= std_feat\n",
    "X_test_feats /= std_feat\n",
    "\n",
    "# Preprocessing: Add a bias dimension\n",
    "X_train_feats = np.hstack([X_train_feats, np.ones((X_train_feats.shape[0], 1))])\n",
    "X_val_feats = np.hstack([X_val_feats, np.ones((X_val_feats.shape[0], 1))])\n",
    "X_test_feats = np.hstack([X_test_feats, np.ones((X_test_feats.shape[0], 1))])"
   ],
   "outputs": []
  },
  {
   "cell_type": "markdown",
   "id": "6ba2aefd",
   "metadata": {
    "id": "6ba2aefd"
   },
   "source": [
    "## Train SVM on features\n",
    "Using the multiclass SVM code developed earlier in the assignment, train SVMs on top of the features extracted above; this should achieve better results than training SVMs directly on top of raw pixels."
   ]
  },
  {
   "cell_type": "code",
   "execution_count": 6,
   "id": "c6e7c966",
   "metadata": {
    "colab": {
     "base_uri": "https://localhost:8080/"
    },
    "executionInfo": {
     "elapsed": 68332,
     "status": "ok",
     "timestamp": 1720926822712,
     "user": {
      "displayName": "kurumi wang",
      "userId": "16115788387281802082"
     },
     "user_tz": -480
    },
    "id": "c6e7c966",
    "outputId": "38b45b24-a56a-4758-d076-0a438d56e1d5"
   },
   "source": [
    "# Use the validation set to tune the learning rate and regularization strength\n",
    "\n",
    "from cs231n.classifiers.linear_classifier import LinearSVM\n",
    "\n",
    "learning_rates = [1e-9, 1e-8, 1e-7,5e-5,1e-4,1e-3,1e-2,1e-1,1]\n",
    "regularization_strengths = [5e4,5e3,5e2,5e1,1,1e-1,1e-2]\n",
    "\n",
    "results = {}\n",
    "best_val = -1\n",
    "best_svm = None\n",
    "\n",
    "################################################################################\n",
    "# TODO:                                                                        #\n",
    "# Use the validation set to set the learning rate and regularization strength. #\n",
    "# This should be identical to the validation that you did for the SVM; save    #\n",
    "# the best trained classifer in best_svm. You might also want to play          #\n",
    "# with different numbers of bins in the color histogram. If you are careful    #\n",
    "# you should be able to get accuracy of near 0.44 on the validation set.       #\n",
    "################################################################################\n",
    "# *****START OF YOUR CODE (DO NOT DELETE/MODIFY THIS LINE)*****\n",
    "\n",
    "for lr in learning_rates:\n",
    "  for reg in regularization_strengths:\n",
    "    svm = LinearSVM()\n",
    "    loss_hist = svm.train(X_train_feats, y_train, learning_rate=lr, reg=reg, num_iters=1500)\n",
    "    y_train_pred = svm.predict(X_train_feats)\n",
    "    train_accuracy = np.mean(y_train == y_train_pred)\n",
    "    y_val_pred = svm.predict(X_val_feats)\n",
    "    val_accuracy = np.mean(y_val == y_val_pred)\n",
    "    results[(lr, reg)] = (train_accuracy, val_accuracy)\n",
    "    if val_accuracy > best_val:\n",
    "      best_val = val_accuracy\n",
    "      best_svm = svm\n",
    "\n",
    "\n",
    "# *****END OF YOUR CODE (DO NOT DELETE/MODIFY THIS LINE)*****\n",
    "\n",
    "# Print out results.\n",
    "for lr, reg in sorted(results):\n",
    "    train_accuracy, val_accuracy = results[(lr, reg)]\n",
    "    print('lr %e reg %e train accuracy: %f val accuracy: %f' % (\n",
    "                lr, reg, train_accuracy, val_accuracy))\n",
    "\n",
    "print('best validation accuracy achieved: %f' % best_val)"
   ],
   "outputs": []
  },
  {
   "cell_type": "code",
   "execution_count": 7,
   "id": "f47ff038",
   "metadata": {
    "colab": {
     "base_uri": "https://localhost:8080/"
    },
    "executionInfo": {
     "elapsed": 17,
     "status": "ok",
     "timestamp": 1720926822712,
     "user": {
      "displayName": "kurumi wang",
      "userId": "16115788387281802082"
     },
     "user_tz": -480
    },
    "id": "f47ff038",
    "outputId": "a30138b4-cc5a-4fb8-839a-824d802c2190"
   },
   "source": [
    "# Evaluate your trained SVM on the test set: you should be able to get at least 0.40\n",
    "y_test_pred = best_svm.predict(X_test_feats)\n",
    "test_accuracy = np.mean(y_test == y_test_pred)\n",
    "print(test_accuracy)"
   ],
   "outputs": []
  },
  {
   "cell_type": "code",
   "execution_count": 8,
   "id": "69ceda31",
   "metadata": {
    "colab": {
     "base_uri": "https://localhost:8080/",
     "height": 675
    },
    "executionInfo": {
     "elapsed": 4047,
     "status": "ok",
     "timestamp": 1720926826745,
     "user": {
      "displayName": "kurumi wang",
      "userId": "16115788387281802082"
     },
     "user_tz": -480
    },
    "id": "69ceda31",
    "outputId": "81308c82-73e1-47c6-ea05-aaea29016b6d"
   },
   "source": [
    "# An important way to gain intuition about how an algorithm works is to\n",
    "# visualize the mistakes that it makes. In this visualization, we show examples\n",
    "# of images that are misclassified by our current system. The first column\n",
    "# shows images that our system labeled as \"plane\" but whose true label is\n",
    "# something other than \"plane\".\n",
    "\n",
    "examples_per_class = 8\n",
    "classes = ['plane', 'car', 'bird', 'cat', 'deer', 'dog', 'frog', 'horse', 'ship', 'truck']\n",
    "for cls, cls_name in enumerate(classes):\n",
    "    idxs = np.where((y_test != cls) & (y_test_pred == cls))[0]\n",
    "    idxs = np.random.choice(idxs, examples_per_class, replace=False)\n",
    "    for i, idx in enumerate(idxs):\n",
    "        plt.subplot(examples_per_class, len(classes), i * len(classes) + cls + 1)\n",
    "        plt.imshow(X_test[idx].astype('uint8'))\n",
    "        plt.axis('off')\n",
    "        if i == 0:\n",
    "            plt.title(cls_name)\n",
    "plt.show()"
   ],
   "outputs": []
  },
  {
   "cell_type": "markdown",
   "id": "54ad778e",
   "metadata": {
    "id": "54ad778e"
   },
   "source": [
    "### Inline question 1:\n",
    "Describe the misclassification results that you see. Do they make sense?\n",
    "\n",
    "\n",
    "$\\color{blue}{\\textit Your Answer:}$\n",
    "\n",
    "\n"
   ]
  },
  {
   "cell_type": "markdown",
   "id": "b98cf2e7",
   "metadata": {
    "id": "b98cf2e7"
   },
   "source": [
    "## Neural Network on image features\n",
    "Earlier in this assigment we saw that training a two-layer neural network on raw pixels achieved better classification performance than linear classifiers on raw pixels. In this notebook we have seen that linear classifiers on image features outperform linear classifiers on raw pixels.\n",
    "\n",
    "For completeness, we should also try training a neural network on image features. This approach should outperform all previous approaches: you should easily be able to achieve over 55% classification accuracy on the test set; our best model achieves about 60% classification accuracy."
   ]
  },
  {
   "cell_type": "code",
   "execution_count": 9,
   "id": "3fed5cd6",
   "metadata": {
    "colab": {
     "base_uri": "https://localhost:8080/"
    },
    "executionInfo": {
     "elapsed": 9,
     "status": "ok",
     "timestamp": 1720926826746,
     "user": {
      "displayName": "kurumi wang",
      "userId": "16115788387281802082"
     },
     "user_tz": -480
    },
    "id": "3fed5cd6",
    "outputId": "c0779a11-22f9-4fb8-c60e-2724d0c9b1f2"
   },
   "source": [
    "# Preprocessing: Remove the bias dimension\n",
    "# Make sure to run this cell only ONCE\n",
    "print(X_train_feats.shape)\n",
    "X_train_feats = X_train_feats[:, :-1]\n",
    "X_val_feats = X_val_feats[:, :-1]\n",
    "X_test_feats = X_test_feats[:, :-1]\n",
    "\n",
    "print(X_train_feats.shape)"
   ],
   "outputs": []
  },
  {
   "cell_type": "code",
   "execution_count": 10,
   "id": "f792f3f3",
   "metadata": {
    "colab": {
     "base_uri": "https://localhost:8080/"
    },
    "id": "f792f3f3",
    "executionInfo": {
     "status": "ok",
     "timestamp": 1720931860011,
     "user_tz": -480,
     "elapsed": 5033272,
     "user": {
      "displayName": "kurumi wang",
      "userId": "16115788387281802082"
     }
    },
    "outputId": "53d0026f-5bf6-47c0-c30a-cff180acf2ad"
   },
   "source": [
    "from cs231n.classifiers.fc_net import TwoLayerNet\n",
    "from cs231n.solver import Solver\n",
    "\n",
    "input_dim = X_train_feats.shape[1]\n",
    "#hidden_dim = 500\n",
    "num_classes = 10\n",
    "\n",
    "data = {\n",
    "    'X_train': X_train_feats,\n",
    "    'y_train': y_train,\n",
    "    'X_val': X_val_feats,\n",
    "    'y_val': y_val,\n",
    "    'X_test': X_test_feats,\n",
    "    'y_test': y_test,\n",
    "}\n",
    "\n",
    "#net = TwoLayerNet(input_dim, hidden_dim, num_classes)\n",
    "best_net = None\n",
    "\n",
    "################################################################################\n",
    "# TODO: Train a two-layer neural network on image features. You may want to    #\n",
    "# cross-validate various parameters as in previous sections. Store your best   #\n",
    "# model in the best_net variable.                                              #\n",
    "################################################################################\n",
    "# *****START OF YOUR CODE (DO NOT DELETE/MODIFY THIS LINE)*****\n",
    "\n",
    "import numpy as np\n",
    "\n",
    "# 超参数搜索范围\n",
    "learning_rates = [1e-4,1e-3, 1e-2, 1e-1,1]\n",
    "hidden_sizes = [100,200,300,400,500,1000]\n",
    "regularization_strengths = [0, 0.1,0.3, 0.5,0.7,0.8,1]\n",
    "num_epochs = 10\n",
    "batch_size = 200\n",
    "\n",
    "best_val_acc = 0\n",
    "\n",
    "# 保存训练和验证准确度\n",
    "results = {}\n",
    "\n",
    "for lr in learning_rates:\n",
    "    for hs in hidden_sizes:\n",
    "        for reg in regularization_strengths:\n",
    "            print(f\"Training with learning_rate={lr}, hidden_size={hs}, reg={reg}\")\n",
    "\n",
    "            model = TwoLayerNet(input_dim, hidden_dim=hs, num_classes=10, weight_scale=1e-3, reg=reg)\n",
    "            solver = Solver(model, data,\n",
    "                            update_rule='sgd',\n",
    "                            optim_config={'learning_rate': lr},\n",
    "                            lr_decay=0.95,\n",
    "                            num_epochs=num_epochs,\n",
    "                            batch_size=batch_size,\n",
    "                            print_every=100,\n",
    "                            verbose=False)\n",
    "\n",
    "            solver.train()\n",
    "\n",
    "            train_acc = solver.train_acc_history[-1]\n",
    "            val_acc = solver.val_acc_history[-1]\n",
    "            results[(lr, hs, reg)] = (train_acc, val_acc)\n",
    "\n",
    "            if val_acc > best_val_acc:\n",
    "                best_val_acc = val_acc\n",
    "                best_net = model\n",
    "\n",
    "# 打印结果\n",
    "for lr, hs, reg in sorted(results):\n",
    "    train_acc, val_acc = results[(lr, hs, reg)]\n",
    "    print(f\"lr {lr} hs {hs} reg {reg} train_acc: {train_acc} val_acc: {val_acc}\")\n",
    "\n",
    "print(f\"Best validation accuracy achieved during cross-validation: {best_val_acc}\")\n",
    "# *****END OF YOUR CODE (DO NOT DELETE/MODIFY THIS LINE)*****\n"
   ],
   "outputs": []
  },
  {
   "cell_type": "code",
   "execution_count": 11,
   "id": "0545c3d6",
   "metadata": {
    "colab": {
     "base_uri": "https://localhost:8080/"
    },
    "executionInfo": {
     "elapsed": 373,
     "status": "ok",
     "timestamp": 1720932971293,
     "user": {
      "displayName": "kurumi wang",
      "userId": "16115788387281802082"
     },
     "user_tz": -480
    },
    "id": "0545c3d6",
    "outputId": "e061d97e-dbba-41d2-fc36-8bcfdee4009d"
   },
   "source": [
    "# Run your best neural net classifier on the test set. You should be able\n",
    "# to get more than 55% accuracy.\n",
    "\n",
    "y_test_pred = np.argmax(best_net.loss(data['X_test']), axis=1)\n",
    "test_acc = (y_test_pred == data['y_test']).mean()\n",
    "print(test_acc)"
   ],
   "outputs": []
  }
 ],
 "metadata": {
  "colab": {
   "provenance": []
  },
  "kernelspec": {
   "display_name": "Python 3",
   "name": "python3"
  },
  "language_info": {
   "name": "python"
  }
 },
 "nbformat": 4,
 "nbformat_minor": 5
}
